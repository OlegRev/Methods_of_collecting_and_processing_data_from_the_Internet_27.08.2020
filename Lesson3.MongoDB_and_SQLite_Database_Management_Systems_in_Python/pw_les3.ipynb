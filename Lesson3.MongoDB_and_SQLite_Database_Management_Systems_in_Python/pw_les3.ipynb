{
 "cells": [
  {
   "cell_type": "code",
   "execution_count": 1,
   "metadata": {},
   "outputs": [],
   "source": [
    "from my_parser import get_vacancies_list\n",
    "from pymongo import MongoClient\n",
    "from pprint import pprint\n",
    "\n",
    "\"\"\"1) Развернуть у себя на компьютере/виртуальной машине/хостинге\n",
    "MongoDB и реализовать функцию, записывающую собранные \n",
    "вакансии в созданную БД\n",
    "2) Написать функцию, которая производит поиск \n",
    "и выводит на экран вакансии с заработной платой больше введенной суммы.\n",
    "Поиск по двум полям (мин и макс зарплату)\n",
    "3) Написать функцию, которая будет добавлять в вашу базу данных\n",
    "только новые вакансии с сайта\n",
    "\"\"\"\n",
    "\n",
    "\n",
    "\n",
    "#1\n",
    "def set_vacancies_to_mongo(collection_name, vacancies_list):\n",
    "    try:\n",
    "        collection_name.insert_many(vacancies_list)\n",
    "        return \"ok\"\n",
    "    except:\n",
    "        return 'insert error'\n",
    "\n",
    "#2\n",
    "def find_vacancies(collection_name, upper_compensation):\n",
    "\n",
    "    found_vacancies = collection_name.find({'$or': [{'min_compensation': {'$gt': upper_compensation}},\n",
    "                                                    {'max_compensation': {'$gt': upper_compensation}}]})\n",
    "    return found_vacancies\n",
    "\n",
    "#3\n",
    "def update_vacancies_to_mongo(collection_name, vacancies_list):\n",
    "    try:\n",
    "        for vacancy in vacancies:\n",
    "            collection_name.updata_many({'_id': vacancy['_id']}, {'$set': vacancy}, upsert=True)\n",
    "        return \"ok\"\n",
    "    except:\n",
    "        return 'insert error'\n",
    "       \n"
   ]
  },
  {
   "cell_type": "code",
   "execution_count": 2,
   "metadata": {},
   "outputs": [],
   "source": [
    "required_vacancy = 'Data Science'\n",
    "headers = {'User-Agent': 'Mozilla/5.0 (X11; Linux x86_64) '\n",
    "               'AppleWebKit/537.36 (KHTML, like Gecko) ' \n",
    "               'Chrome/84.0.4147.135 Safari/537.36'}\n",
    "vacancies_list = get_vacancies_list(website_list=['hh.ru', 'superjob.ru'],\n",
    "                              required_vacancy=required_vacancy,\n",
    "                              headers=headers)\n"
   ]
  },
  {
   "cell_type": "code",
   "execution_count": 3,
   "metadata": {},
   "outputs": [
    {
     "data": {
      "text/plain": [
       "{'website': 'hh.ru',\n",
       " '_id': 'hh.ru37732722',\n",
       " 'name': 'Специалист по углубленной аналитике данных (Data scientist)',\n",
       " 'link': 'https://spb.hh.ru/vacancy/37732722?query=Data%20Science',\n",
       " 'company_link': 'https://hh.ru/employer/778329?dpt=778329-778329-01',\n",
       " 'company_name': ' А1. Информационные технологии, телеком',\n",
       " 'company_location': 'Минск, Купаловская и еще 1 ',\n",
       " 'min_compensation': None,\n",
       " 'max_compensation': None,\n",
       " 'currency_compensation': None}"
      ]
     },
     "execution_count": 3,
     "metadata": {},
     "output_type": "execute_result"
    }
   ],
   "source": [
    "vacancies_list[0]"
   ]
  },
  {
   "cell_type": "code",
   "execution_count": 4,
   "metadata": {},
   "outputs": [
    {
     "data": {
      "text/html": [
       "<div>\n",
       "<style scoped>\n",
       "    .dataframe tbody tr th:only-of-type {\n",
       "        vertical-align: middle;\n",
       "    }\n",
       "\n",
       "    .dataframe tbody tr th {\n",
       "        vertical-align: top;\n",
       "    }\n",
       "\n",
       "    .dataframe thead th {\n",
       "        text-align: right;\n",
       "    }\n",
       "</style>\n",
       "<table border=\"1\" class=\"dataframe\">\n",
       "  <thead>\n",
       "    <tr style=\"text-align: right;\">\n",
       "      <th></th>\n",
       "      <th>website</th>\n",
       "      <th>_id</th>\n",
       "      <th>name</th>\n",
       "      <th>link</th>\n",
       "      <th>company_link</th>\n",
       "      <th>company_name</th>\n",
       "      <th>company_location</th>\n",
       "      <th>min_compensation</th>\n",
       "      <th>max_compensation</th>\n",
       "      <th>currency_compensation</th>\n",
       "    </tr>\n",
       "  </thead>\n",
       "  <tbody>\n",
       "    <tr>\n",
       "      <th>951</th>\n",
       "      <td>hh.ru</td>\n",
       "      <td>hh.ru38647753</td>\n",
       "      <td>Руководитель проектов по грантовым и бюджетным...</td>\n",
       "      <td>https://spb.hh.ru/vacancy/38647753?query=Data%...</td>\n",
       "      <td>https://hh.ru/employer/872090</td>\n",
       "      <td>ТОО Казахстанско - Британский технический унив...</td>\n",
       "      <td>Алматы</td>\n",
       "      <td>None</td>\n",
       "      <td>None</td>\n",
       "      <td>None</td>\n",
       "    </tr>\n",
       "    <tr>\n",
       "      <th>952</th>\n",
       "      <td>superjob.ru</td>\n",
       "      <td>superjob.ru34345797</td>\n",
       "      <td>Data Scientist</td>\n",
       "      <td>https://www.superjob.ru/vakansii/data-scientis...</td>\n",
       "      <td>https://www.superjob.ru/clients/kiberboreya-39...</td>\n",
       "      <td>КИБЕРБОРЕЯ</td>\n",
       "      <td>8 сентября • Москва</td>\n",
       "      <td>None</td>\n",
       "      <td>None</td>\n",
       "      <td>None</td>\n",
       "    </tr>\n",
       "    <tr>\n",
       "      <th>953</th>\n",
       "      <td>superjob.ru</td>\n",
       "      <td>superjob.ru34308964</td>\n",
       "      <td>Программист / Разработчик 1С</td>\n",
       "      <td>https://www.superjob.ru/vakansii/programmist-3...</td>\n",
       "      <td>https://www.superjob.ru/clients/7cvetov-i-7cve...</td>\n",
       "      <td>7ЦВЕТОВ и 7ЦВЕТОВ Декор</td>\n",
       "      <td>10:40 • Москва, Молодежная</td>\n",
       "      <td>130000</td>\n",
       "      <td></td>\n",
       "      <td>руб</td>\n",
       "    </tr>\n",
       "    <tr>\n",
       "      <th>954</th>\n",
       "      <td>superjob.ru</td>\n",
       "      <td>superjob.ru34468513</td>\n",
       "      <td>Product Technical Specialist</td>\n",
       "      <td>https://www.superjob.ru/vakansii/product-techn...</td>\n",
       "      <td>https://www.superjob.ru/clients/tiktok-pte-ltd...</td>\n",
       "      <td>TIKTOK PTE LTD</td>\n",
       "      <td>7 сентября • Москва</td>\n",
       "      <td>None</td>\n",
       "      <td>None</td>\n",
       "      <td>None</td>\n",
       "    </tr>\n",
       "    <tr>\n",
       "      <th>955</th>\n",
       "      <td>superjob.ru</td>\n",
       "      <td>superjob.ru34380213</td>\n",
       "      <td>Программист 1С</td>\n",
       "      <td>https://www.superjob.ru/vakansii/programmist-1...</td>\n",
       "      <td>https://www.superjob.ru/clients/7cvetov-i-7cve...</td>\n",
       "      <td>7ЦВЕТОВ и 7ЦВЕТОВ Декор</td>\n",
       "      <td>Вчера • Москва</td>\n",
       "      <td>130000</td>\n",
       "      <td></td>\n",
       "      <td>руб</td>\n",
       "    </tr>\n",
       "  </tbody>\n",
       "</table>\n",
       "</div>"
      ],
      "text/plain": [
       "         website                  _id  \\\n",
       "951        hh.ru        hh.ru38647753   \n",
       "952  superjob.ru  superjob.ru34345797   \n",
       "953  superjob.ru  superjob.ru34308964   \n",
       "954  superjob.ru  superjob.ru34468513   \n",
       "955  superjob.ru  superjob.ru34380213   \n",
       "\n",
       "                                                  name  \\\n",
       "951  Руководитель проектов по грантовым и бюджетным...   \n",
       "952                                     Data Scientist   \n",
       "953                       Программист / Разработчик 1С   \n",
       "954                       Product Technical Specialist   \n",
       "955                                     Программист 1С   \n",
       "\n",
       "                                                  link  \\\n",
       "951  https://spb.hh.ru/vacancy/38647753?query=Data%...   \n",
       "952  https://www.superjob.ru/vakansii/data-scientis...   \n",
       "953  https://www.superjob.ru/vakansii/programmist-3...   \n",
       "954  https://www.superjob.ru/vakansii/product-techn...   \n",
       "955  https://www.superjob.ru/vakansii/programmist-1...   \n",
       "\n",
       "                                          company_link  \\\n",
       "951                      https://hh.ru/employer/872090   \n",
       "952  https://www.superjob.ru/clients/kiberboreya-39...   \n",
       "953  https://www.superjob.ru/clients/7cvetov-i-7cve...   \n",
       "954  https://www.superjob.ru/clients/tiktok-pte-ltd...   \n",
       "955  https://www.superjob.ru/clients/7cvetov-i-7cve...   \n",
       "\n",
       "                                          company_name  \\\n",
       "951  ТОО Казахстанско - Британский технический унив...   \n",
       "952                                         КИБЕРБОРЕЯ   \n",
       "953                            7ЦВЕТОВ и 7ЦВЕТОВ Декор   \n",
       "954                                     TIKTOK PTE LTD   \n",
       "955                            7ЦВЕТОВ и 7ЦВЕТОВ Декор   \n",
       "\n",
       "               company_location min_compensation max_compensation  \\\n",
       "951                      Алматы             None             None   \n",
       "952         8 сентября • Москва             None             None   \n",
       "953  10:40 • Москва, Молодежная           130000                    \n",
       "954         7 сентября • Москва             None             None   \n",
       "955              Вчера • Москва           130000                    \n",
       "\n",
       "    currency_compensation  \n",
       "951                  None  \n",
       "952                  None  \n",
       "953                   руб  \n",
       "954                  None  \n",
       "955                   руб  "
      ]
     },
     "execution_count": 4,
     "metadata": {},
     "output_type": "execute_result"
    }
   ],
   "source": [
    "import pandas as pd\n",
    "df = pd.DataFrame(vacancies_list)\n",
    "df.tail()"
   ]
  },
  {
   "cell_type": "code",
   "execution_count": 5,
   "metadata": {},
   "outputs": [],
   "source": [
    "client = MongoClient('127.0.0.1:27017',\n",
    "                     username='admin_vacancies',\n",
    "                     password='password_db',\n",
    "                     authSource='vacancies_db',\n",
    "                     authMechanism='SCRAM-SHA-1')\n",
    "\n",
    "\n",
    "db = client['vacancies_db']\n",
    "collection = db.vacancies"
   ]
  },
  {
   "cell_type": "code",
   "execution_count": 6,
   "metadata": {},
   "outputs": [
    {
     "name": "stdout",
     "output_type": "stream",
     "text": [
      "ok\n"
     ]
    }
   ],
   "source": [
    "try:\n",
    "    set_vacancies_to_mongo(collection_name=collection, vacancies_list=vacancies_list[:100])\n",
    "    print('ok')\n",
    "except:\n",
    "    print('error')"
   ]
  },
  {
   "cell_type": "code",
   "execution_count": 7,
   "metadata": {},
   "outputs": [
    {
     "name": "stdout",
     "output_type": "stream",
     "text": [
      "<pymongo.cursor.Cursor object at 0x7fc9dfaa8e10>\n",
      "ok\n"
     ]
    }
   ],
   "source": [
    "try:\n",
    "    print(find_vacancies(collection_name=collection, upper_compensation=100000))\n",
    "    print('ok')\n",
    "except:\n",
    "    print('error')\n"
   ]
  },
  {
   "cell_type": "code",
   "execution_count": 8,
   "metadata": {},
   "outputs": [
    {
     "name": "stdout",
     "output_type": "stream",
     "text": [
      "ok\n"
     ]
    }
   ],
   "source": [
    "try:\n",
    "    update_vacancies_to_mongo(collection_name=collection, vacancies_list=vacancies_list)\n",
    "    print('ok')\n",
    "except:\n",
    "    print('error')"
   ]
  },
  {
   "cell_type": "code",
   "execution_count": null,
   "metadata": {},
   "outputs": [],
   "source": []
  }
 ],
 "metadata": {
  "kernelspec": {
   "display_name": "Python 3",
   "language": "python",
   "name": "python3"
  },
  "language_info": {
   "codemirror_mode": {
    "name": "ipython",
    "version": 3
   },
   "file_extension": ".py",
   "mimetype": "text/x-python",
   "name": "python",
   "nbconvert_exporter": "python",
   "pygments_lexer": "ipython3",
   "version": "3.7.6"
  }
 },
 "nbformat": 4,
 "nbformat_minor": 4
}
